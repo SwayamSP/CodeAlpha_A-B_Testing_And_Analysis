{
 "cells": [
  {
   "cell_type": "markdown",
   "metadata": {},
   "source": [
    "Import necessary libraries"
   ]
  },
  {
   "cell_type": "code",
   "execution_count": 1,
   "metadata": {},
   "outputs": [],
   "source": [
    "import pandas as pd \n",
    "import numpy as np\n",
    "import seaborn as sns\n",
    "import matplotlib.pyplot as plt\n",
    "from scipy.stats import shapiro, levene, ttest_ind, mannwhitneyu\n",
    "\n",
    "pd.set_option('display.max_columns', None)\n",
    "pd.set_option('display.float_format', lambda x: '%.4f' % x)\n",
    "\n",
    "import warnings\n",
    "warnings.filterwarnings(\"ignore\")\n",
    "warnings.simplefilter(action='ignore', category=FutureWarning)\n",
    "\n",
    "import os\n",
    "for dirname, _, filenames in os.walk('/kaggle/input'):\n",
    "    for filename in filenames:\n",
    "        print(os.path.join(dirname, filename))"
   ]
  },
  {
   "cell_type": "markdown",
   "metadata": {},
   "source": [
    "Load the Mobile Games dataset"
   ]
  },
  {
   "cell_type": "code",
   "execution_count": 5,
   "metadata": {},
   "outputs": [],
   "source": [
    "df = pd.read_csv(\"C:/Users/panig/Downloads/cookie_cats.csv/cookie_cats.csv\")"
   ]
  },
  {
   "cell_type": "markdown",
   "metadata": {},
   "source": [
    "Explore the dataset"
   ]
  },
  {
   "cell_type": "code",
   "execution_count": 6,
   "metadata": {},
   "outputs": [
    {
     "data": {
      "text/html": [
       "<div>\n",
       "<style scoped>\n",
       "    .dataframe tbody tr th:only-of-type {\n",
       "        vertical-align: middle;\n",
       "    }\n",
       "\n",
       "    .dataframe tbody tr th {\n",
       "        vertical-align: top;\n",
       "    }\n",
       "\n",
       "    .dataframe thead th {\n",
       "        text-align: right;\n",
       "    }\n",
       "</style>\n",
       "<table border=\"1\" class=\"dataframe\">\n",
       "  <thead>\n",
       "    <tr style=\"text-align: right;\">\n",
       "      <th></th>\n",
       "      <th>userid</th>\n",
       "      <th>version</th>\n",
       "      <th>sum_gamerounds</th>\n",
       "      <th>retention_1</th>\n",
       "      <th>retention_7</th>\n",
       "    </tr>\n",
       "  </thead>\n",
       "  <tbody>\n",
       "    <tr>\n",
       "      <th>0</th>\n",
       "      <td>116</td>\n",
       "      <td>gate_30</td>\n",
       "      <td>3</td>\n",
       "      <td>False</td>\n",
       "      <td>False</td>\n",
       "    </tr>\n",
       "    <tr>\n",
       "      <th>1</th>\n",
       "      <td>337</td>\n",
       "      <td>gate_30</td>\n",
       "      <td>38</td>\n",
       "      <td>True</td>\n",
       "      <td>False</td>\n",
       "    </tr>\n",
       "    <tr>\n",
       "      <th>2</th>\n",
       "      <td>377</td>\n",
       "      <td>gate_40</td>\n",
       "      <td>165</td>\n",
       "      <td>True</td>\n",
       "      <td>False</td>\n",
       "    </tr>\n",
       "    <tr>\n",
       "      <th>3</th>\n",
       "      <td>483</td>\n",
       "      <td>gate_40</td>\n",
       "      <td>1</td>\n",
       "      <td>False</td>\n",
       "      <td>False</td>\n",
       "    </tr>\n",
       "    <tr>\n",
       "      <th>4</th>\n",
       "      <td>488</td>\n",
       "      <td>gate_40</td>\n",
       "      <td>179</td>\n",
       "      <td>True</td>\n",
       "      <td>True</td>\n",
       "    </tr>\n",
       "    <tr>\n",
       "      <th>5</th>\n",
       "      <td>540</td>\n",
       "      <td>gate_40</td>\n",
       "      <td>187</td>\n",
       "      <td>True</td>\n",
       "      <td>True</td>\n",
       "    </tr>\n",
       "    <tr>\n",
       "      <th>6</th>\n",
       "      <td>1066</td>\n",
       "      <td>gate_30</td>\n",
       "      <td>0</td>\n",
       "      <td>False</td>\n",
       "      <td>False</td>\n",
       "    </tr>\n",
       "    <tr>\n",
       "      <th>7</th>\n",
       "      <td>1444</td>\n",
       "      <td>gate_40</td>\n",
       "      <td>2</td>\n",
       "      <td>False</td>\n",
       "      <td>False</td>\n",
       "    </tr>\n",
       "    <tr>\n",
       "      <th>8</th>\n",
       "      <td>1574</td>\n",
       "      <td>gate_40</td>\n",
       "      <td>108</td>\n",
       "      <td>True</td>\n",
       "      <td>True</td>\n",
       "    </tr>\n",
       "    <tr>\n",
       "      <th>9</th>\n",
       "      <td>1587</td>\n",
       "      <td>gate_40</td>\n",
       "      <td>153</td>\n",
       "      <td>True</td>\n",
       "      <td>False</td>\n",
       "    </tr>\n",
       "  </tbody>\n",
       "</table>\n",
       "</div>"
      ],
      "text/plain": [
       "   userid  version  sum_gamerounds  retention_1  retention_7\n",
       "0     116  gate_30               3        False        False\n",
       "1     337  gate_30              38         True        False\n",
       "2     377  gate_40             165         True        False\n",
       "3     483  gate_40               1        False        False\n",
       "4     488  gate_40             179         True         True\n",
       "5     540  gate_40             187         True         True\n",
       "6    1066  gate_30               0        False        False\n",
       "7    1444  gate_40               2        False        False\n",
       "8    1574  gate_40             108         True         True\n",
       "9    1587  gate_40             153         True        False"
      ]
     },
     "execution_count": 6,
     "metadata": {},
     "output_type": "execute_result"
    }
   ],
   "source": [
    "df.head(10)"
   ]
  },
  {
   "cell_type": "code",
   "execution_count": 7,
   "metadata": {},
   "outputs": [
    {
     "data": {
      "text/html": [
       "<div>\n",
       "<style scoped>\n",
       "    .dataframe tbody tr th:only-of-type {\n",
       "        vertical-align: middle;\n",
       "    }\n",
       "\n",
       "    .dataframe tbody tr th {\n",
       "        vertical-align: top;\n",
       "    }\n",
       "\n",
       "    .dataframe thead th {\n",
       "        text-align: right;\n",
       "    }\n",
       "</style>\n",
       "<table border=\"1\" class=\"dataframe\">\n",
       "  <thead>\n",
       "    <tr style=\"text-align: right;\">\n",
       "      <th></th>\n",
       "      <th>userid</th>\n",
       "      <th>sum_gamerounds</th>\n",
       "    </tr>\n",
       "  </thead>\n",
       "  <tbody>\n",
       "    <tr>\n",
       "      <th>count</th>\n",
       "      <td>90189.0000</td>\n",
       "      <td>90189.0000</td>\n",
       "    </tr>\n",
       "    <tr>\n",
       "      <th>mean</th>\n",
       "      <td>4998412.2345</td>\n",
       "      <td>51.8725</td>\n",
       "    </tr>\n",
       "    <tr>\n",
       "      <th>std</th>\n",
       "      <td>2883285.6077</td>\n",
       "      <td>195.0509</td>\n",
       "    </tr>\n",
       "    <tr>\n",
       "      <th>min</th>\n",
       "      <td>116.0000</td>\n",
       "      <td>0.0000</td>\n",
       "    </tr>\n",
       "    <tr>\n",
       "      <th>25%</th>\n",
       "      <td>2512230.0000</td>\n",
       "      <td>5.0000</td>\n",
       "    </tr>\n",
       "    <tr>\n",
       "      <th>50%</th>\n",
       "      <td>4995815.0000</td>\n",
       "      <td>16.0000</td>\n",
       "    </tr>\n",
       "    <tr>\n",
       "      <th>75%</th>\n",
       "      <td>7496452.0000</td>\n",
       "      <td>51.0000</td>\n",
       "    </tr>\n",
       "    <tr>\n",
       "      <th>max</th>\n",
       "      <td>9999861.0000</td>\n",
       "      <td>49854.0000</td>\n",
       "    </tr>\n",
       "  </tbody>\n",
       "</table>\n",
       "</div>"
      ],
      "text/plain": [
       "            userid  sum_gamerounds\n",
       "count   90189.0000      90189.0000\n",
       "mean  4998412.2345         51.8725\n",
       "std   2883285.6077        195.0509\n",
       "min       116.0000          0.0000\n",
       "25%   2512230.0000          5.0000\n",
       "50%   4995815.0000         16.0000\n",
       "75%   7496452.0000         51.0000\n",
       "max   9999861.0000      49854.0000"
      ]
     },
     "execution_count": 7,
     "metadata": {},
     "output_type": "execute_result"
    }
   ],
   "source": [
    "df.describe()"
   ]
  },
  {
   "cell_type": "code",
   "execution_count": 8,
   "metadata": {},
   "outputs": [
    {
     "name": "stdout",
     "output_type": "stream",
     "text": [
      "             userid  version  sum_gamerounds retention_1 retention_7\n",
      "count    90189.0000    90189      90189.0000       90189       90189\n",
      "unique          NaN        2             NaN           2           2\n",
      "top             NaN  gate_40             NaN       False       False\n",
      "freq            NaN    45489             NaN       50036       73408\n",
      "mean   4998412.2345      NaN         51.8725         NaN         NaN\n",
      "std    2883285.6077      NaN        195.0509         NaN         NaN\n",
      "min        116.0000      NaN          0.0000         NaN         NaN\n",
      "25%    2512230.0000      NaN          5.0000         NaN         NaN\n",
      "50%    4995815.0000      NaN         16.0000         NaN         NaN\n",
      "75%    7496452.0000      NaN         51.0000         NaN         NaN\n",
      "max    9999861.0000      NaN      49854.0000         NaN         NaN\n"
     ]
    }
   ],
   "source": [
    "print(df.describe(include='all'))"
   ]
  },
  {
   "cell_type": "code",
   "execution_count": 9,
   "metadata": {},
   "outputs": [
    {
     "name": "stdout",
     "output_type": "stream",
     "text": [
      "<class 'pandas.core.frame.DataFrame'>\n",
      "RangeIndex: 90189 entries, 0 to 90188\n",
      "Data columns (total 5 columns):\n",
      " #   Column          Non-Null Count  Dtype \n",
      "---  ------          --------------  ----- \n",
      " 0   userid          90189 non-null  int64 \n",
      " 1   version         90189 non-null  object\n",
      " 2   sum_gamerounds  90189 non-null  int64 \n",
      " 3   retention_1     90189 non-null  bool  \n",
      " 4   retention_7     90189 non-null  bool  \n",
      "dtypes: bool(2), int64(2), object(1)\n",
      "memory usage: 2.2+ MB\n"
     ]
    }
   ],
   "source": [
    "df.info()"
   ]
  },
  {
   "cell_type": "code",
   "execution_count": 10,
   "metadata": {},
   "outputs": [
    {
     "name": "stdout",
     "output_type": "stream",
     "text": [
      "\u001b[1m********** SHAPE **********\u001b[0m\n",
      "Rows:90189\n",
      "Columns:5\n",
      "\u001b[1m********** TYPES **********\u001b[0m\n",
      "userid             int64\n",
      "version           object\n",
      "sum_gamerounds     int64\n",
      "retention_1         bool\n",
      "retention_7         bool\n",
      "dtype: object\n",
      "\u001b[1m********** HEAD **********\u001b[0m\n",
      "   userid  version  sum_gamerounds  retention_1  retention_7\n",
      "0     116  gate_30               3        False        False\n",
      "1     337  gate_30              38         True        False\n",
      "2     377  gate_40             165         True        False\n",
      "3     483  gate_40               1        False        False\n",
      "4     488  gate_40             179         True         True\n",
      "5     540  gate_40             187         True         True\n",
      "6    1066  gate_30               0        False        False\n",
      "7    1444  gate_40               2        False        False\n",
      "8    1574  gate_40             108         True         True\n",
      "9    1587  gate_40             153         True        False\n",
      "\u001b[1m********** TAIL **********\u001b[0m\n",
      "        userid  version  sum_gamerounds  retention_1  retention_7\n",
      "90179  9998576  gate_30              14         True        False\n",
      "90180  9998623  gate_30               7        False        False\n",
      "90181  9998733  gate_40              10         True        False\n",
      "90182  9999178  gate_30              21         True        False\n",
      "90183  9999349  gate_30              10        False        False\n",
      "90184  9999441  gate_40              97         True        False\n",
      "90185  9999479  gate_40              30        False        False\n",
      "90186  9999710  gate_30              28         True        False\n",
      "90187  9999768  gate_40              51         True        False\n",
      "90188  9999861  gate_40              16        False        False\n",
      "\u001b[1m********** COLUMNS **********\u001b[0m\n",
      "Index(['userid', 'version', 'sum_gamerounds', 'retention_1', 'retention_7'], dtype='object')\n",
      "\u001b[1m********** NUNIQUE ELEMENTS **********\u001b[0m\n",
      "userid            90189\n",
      "version               2\n",
      "sum_gamerounds      942\n",
      "retention_1           2\n",
      "retention_7           2\n",
      "dtype: int64\n",
      "\u001b[1m********** NA **********\u001b[0m\n",
      "userid            0\n",
      "version           0\n",
      "sum_gamerounds    0\n",
      "retention_1       0\n",
      "retention_7       0\n",
      "dtype: int64\n",
      "\u001b[1m********** DESCRIBE **********\u001b[0m\n",
      "                    count         mean          std      min          25%  \\\n",
      "userid         90189.0000 4998412.2345 2883285.6077 116.0000 2512230.0000   \n",
      "sum_gamerounds 90189.0000      51.8725     195.0509   0.0000       5.0000   \n",
      "\n",
      "                        50%          75%          max  \n",
      "userid         4995815.0000 7496452.0000 9999861.0000  \n",
      "sum_gamerounds      16.0000      51.0000   49854.0000  \n"
     ]
    }
   ],
   "source": [
    "#I write a function to summarize the general information about the dataset.\n",
    "def check_df(dataframe, head=10):\n",
    "    print('\\033[1m' + 10*\"*\" + ' SHAPE ' + 10*\"*\" + '\\033[0m')\n",
    "    print(f\"Rows:{dataframe.shape[0]}\")\n",
    "    print(f\"Columns:{dataframe.shape[1]}\")\n",
    "\n",
    "    print('\\033[1m' + 10*\"*\" + ' TYPES ' + 10*\"*\" + '\\033[0m')\n",
    "    print(dataframe.dtypes)\n",
    "\n",
    "    print('\\033[1m' + 10*\"*\" + ' HEAD ' + 10*\"*\" + '\\033[0m')\n",
    "    print(dataframe.head(head))\n",
    "\n",
    "    print('\\033[1m' + 10*\"*\" + ' TAIL ' + 10*\"*\" + '\\033[0m')\n",
    "    print(dataframe.tail(head))\n",
    "\n",
    "    print('\\033[1m' + 10*\"*\" + ' COLUMNS ' + 10*\"*\" + '\\033[0m')\n",
    "    print(dataframe.columns)\n",
    "\n",
    "    print('\\033[1m' + 10*\"*\" + ' NUNIQUE ELEMENTS ' + 10*\"*\" + '\\033[0m')\n",
    "    print(dataframe.nunique())\n",
    "    print('\\033[1m' + 10*\"*\" + ' NA ' + 10*\"*\" + '\\033[0m')\n",
    "    print(dataframe.isnull().sum())\n",
    "\n",
    "    print('\\033[1m' + 10*\"*\" + ' DESCRIBE ' + 10*\"*\" + '\\033[0m')\n",
    "    print(dataframe.describe().T)\n",
    "    \n",
    "check_df(df,10)"
   ]
  },
  {
   "cell_type": "code",
   "execution_count": 11,
   "metadata": {},
   "outputs": [
    {
     "data": {
      "text/plain": [
       "<Axes: xlabel='version', ylabel='count'>"
      ]
     },
     "execution_count": 11,
     "metadata": {},
     "output_type": "execute_result"
    },
    {
     "data": {
      "image/png": "[encoded data removed]",
      "text/plain": [
       "<Figure size 640x480 with 1 Axes>"
      ]
     },
     "metadata": {},
     "output_type": "display_data"
    }
   ],
   "source": [
    "df.groupby(\"version\")[\"userid\"].count()\n",
    "sns.countplot(x=\"version\",data=df)"
   ]
  },
  {
   "cell_type": "code",
   "execution_count": 12,
   "metadata": {},
   "outputs": [
    {
     "data": {
      "text/html": [
       "<div>\n",
       "<style scoped>\n",
       "    .dataframe tbody tr th:only-of-type {\n",
       "        vertical-align: middle;\n",
       "    }\n",
       "\n",
       "    .dataframe tbody tr th {\n",
       "        vertical-align: top;\n",
       "    }\n",
       "\n",
       "    .dataframe thead tr th {\n",
       "        text-align: left;\n",
       "    }\n",
       "</style>\n",
       "<table border=\"1\" class=\"dataframe\">\n",
       "  <thead>\n",
       "    <tr>\n",
       "      <th></th>\n",
       "      <th>version</th>\n",
       "      <th colspan=\"2\" halign=\"left\">sum_gamerounds</th>\n",
       "    </tr>\n",
       "    <tr>\n",
       "      <th></th>\n",
       "      <th></th>\n",
       "      <th>count</th>\n",
       "      <th>mean</th>\n",
       "    </tr>\n",
       "  </thead>\n",
       "  <tbody>\n",
       "    <tr>\n",
       "      <th>0</th>\n",
       "      <td>gate_30</td>\n",
       "      <td>44700</td>\n",
       "      <td>52.4563</td>\n",
       "    </tr>\n",
       "    <tr>\n",
       "      <th>1</th>\n",
       "      <td>gate_40</td>\n",
       "      <td>45489</td>\n",
       "      <td>51.2988</td>\n",
       "    </tr>\n",
       "  </tbody>\n",
       "</table>\n",
       "</div>"
      ],
      "text/plain": [
       "   version sum_gamerounds        \n",
       "                    count    mean\n",
       "0  gate_30          44700 52.4563\n",
       "1  gate_40          45489 51.2988"
      ]
     },
     "execution_count": 12,
     "metadata": {},
     "output_type": "execute_result"
    }
   ],
   "source": [
    "df.groupby('version').agg({\"sum_gamerounds\": [\"count\", \"mean\"]}).reset_index()"
   ]
  },
  {
   "cell_type": "code",
   "execution_count": 13,
   "metadata": {},
   "outputs": [
    {
     "data": {
      "image/png": "[encoded data removed]",
      "text/plain": [
       "<Figure size 640x480 with 1 Axes>"
      ]
     },
     "metadata": {},
     "output_type": "display_data"
    }
   ],
   "source": [
    "df.groupby(\"version\")[\"sum_gamerounds\"].mean()\n",
    "df.groupby(\"version\")[\"sum_gamerounds\"].mean().plot(kind=\"bar\", color=[ \"salmon\", \"yellowgreen\"]);\n",
    "\n",
    "plt.ylabel(\"Mean of gamerounds\");"
   ]
  },
  {
   "cell_type": "markdown",
   "metadata": {},
   "source": [
    "Outliers"
   ]
  },
  {
   "cell_type": "code",
   "execution_count": 14,
   "metadata": {},
   "outputs": [
    {
     "data": {
      "text/plain": [
       "count   90189.0000\n",
       "mean       51.8725\n",
       "std       195.0509\n",
       "min         0.0000\n",
       "25%         5.0000\n",
       "50%        16.0000\n",
       "75%        51.0000\n",
       "max     49854.0000\n",
       "Name: sum_gamerounds, dtype: float64"
      ]
     },
     "execution_count": 14,
     "metadata": {},
     "output_type": "execute_result"
    }
   ],
   "source": [
    "df.sum_gamerounds.describe()"
   ]
  },
  {
   "cell_type": "code",
   "execution_count": 15,
   "metadata": {},
   "outputs": [
    {
     "data": {
      "image/png": "[encoded data removed]",
      "text/plain": [
       "<Figure size 640x480 with 1 Axes>"
      ]
     },
     "metadata": {},
     "output_type": "display_data"
    }
   ],
   "source": [
    "sns.boxplot(data=df, x=\"version\", y=\"sum_gamerounds\", flierprops={\"marker\": \"x\"}, width=1.0, fliersize=10);"
   ]
  },
  {
   "cell_type": "code",
   "execution_count": 16,
   "metadata": {},
   "outputs": [],
   "source": [
    "# I write a function to get rid of the outlier values.\n",
    "def outlier_thresholds(dataframe, variable):\n",
    "    quartile1 = dataframe[variable].quantile(0.01)\n",
    "    quartile3 = dataframe[variable].quantile(0.99)\n",
    "    interquantile_range = quartile3 - quartile1\n",
    "    up_limit = quartile3 + 1.5 * interquantile_range\n",
    "    low_limit = quartile1 - 1.5 * interquantile_range\n",
    "    return low_limit, up_limit\n",
    "\n",
    "def replace_with_thresholds(dataframe, variable):\n",
    "    low_limit, up_limit = outlier_thresholds(dataframe, variable)\n",
    "    dataframe.loc[(dataframe[variable] > up_limit), variable] = up_limit"
   ]
  },
  {
   "cell_type": "code",
   "execution_count": 17,
   "metadata": {},
   "outputs": [],
   "source": [
    "replace_with_thresholds(df, \"sum_gamerounds\")"
   ]
  },
  {
   "cell_type": "code",
   "execution_count": 18,
   "metadata": {},
   "outputs": [
    {
     "data": {
      "text/plain": [
       "count   90189.0000\n",
       "mean       51.1092\n",
       "std        99.3123\n",
       "min         0.0000\n",
       "25%         5.0000\n",
       "50%        16.0000\n",
       "75%        51.0000\n",
       "max      1232.5000\n",
       "Name: sum_gamerounds, dtype: float64"
      ]
     },
     "execution_count": 18,
     "metadata": {},
     "output_type": "execute_result"
    }
   ],
   "source": [
    "df.sum_gamerounds.describe()"
   ]
  },
  {
   "cell_type": "code",
   "execution_count": 19,
   "metadata": {},
   "outputs": [
    {
     "data": {
      "image/png": "[encoded data removed]",
      "text/plain": [
       "<Figure size 640x480 with 1 Axes>"
      ]
     },
     "metadata": {},
     "output_type": "display_data"
    }
   ],
   "source": [
    "sns.boxplot(data=df, x=\"version\", y=\"sum_gamerounds\", flierprops={\"marker\": \"x\"}, width=0.8, fliersize=10);"
   ]
  },
  {
   "cell_type": "markdown",
   "metadata": {},
   "source": [
    "A/B Testing"
   ]
  },
  {
   "cell_type": "code",
   "execution_count": 20,
   "metadata": {},
   "outputs": [
    {
     "name": "stdout",
     "output_type": "stream",
     "text": [
      "        sum_gamerounds        \n",
      "                 count    mean\n",
      "version                       \n",
      "gate_30          44700 51.1534\n",
      "gate_40          45489 51.0658\n",
      "********************NORMAL DISTRIBUTION ASSUMPTION********************\n",
      "p-value_gate30 = 0.00000\n",
      "p-value_gate40 = 0.00000\n",
      "Normality H0 is rejected.\n",
      "\n",
      "\n",
      "*******************VARIANCE HOMOGENEOUS ASSUMPTION *******************\n",
      "p_value_levene = 0.83018\n",
      "Variance Homogeneity H0 is not rejected.\n",
      "\n",
      "Non-Parametric test should be done.\n",
      "\n",
      "\n",
      "p_value = 0.05021\n",
      "******************************* RESULT *******************************\n",
      "p-value > 0.05 H0 is Not Rejected, That is, there is no statistically significant difference between them. The difference was made by chance.\n"
     ]
    }
   ],
   "source": [
    "def AB_Test(df, pthres=0.05):\n",
    "    \n",
    "    # H0:  There is no statistical difference between the gate_30 and the gate_40.\n",
    "    \n",
    "    print(df.groupby('version').agg({\"sum_gamerounds\": [\"count\", \"mean\"]}))\n",
    "\n",
    "    print(\"NORMAL DISTRIBUTION ASSUMPTION\" .center(70,\"*\"))\n",
    "    \n",
    "    # H0 : The compared groups have a normal distribution\n",
    "    \n",
    "    pvalue_gate_30 = shapiro([df[\"version\"] == \"gate_30\"])[1]\n",
    "    pvalue_gate_40 = shapiro([df[\"version\"] == \"gate_40\"])[1]\n",
    "    \n",
    "    print('p-value_gate30 = %.5f' % (pvalue_gate_30))\n",
    "    print('p-value_gate40 = %.5f' % (pvalue_gate_40))\n",
    "\n",
    "    if (pvalue_gate_30 < pthres) & (pvalue_gate_40 < pthres):\n",
    "        print(\"Normality H0 is rejected.\\n\\n\")\n",
    "    else:\n",
    "        print(\"Normality H0 is not rejected.\\n\")\n",
    "\n",
    "    print(\"VARIANCE HOMOGENEOUS ASSUMPTION \".center(70,\"*\"))\n",
    "    \n",
    "    # H0 : The variance of compared groups is homegenous.\n",
    "    \n",
    "    p_value_levene = levene(df.loc[df[\"version\"] == \"gate_30\", \"sum_gamerounds\"],\n",
    "                            df.loc[df[\"version\"] == \"gate_40\", \"sum_gamerounds\"])[1]\n",
    "    \n",
    "    print('p_value_levene = %.5f' % p_value_levene)\n",
    "\n",
    "    if p_value_levene < pthres:\n",
    "        print(\"Variance Homogeneity H0 is rejected.\\n\")\n",
    "    else:\n",
    "        print(\"Variance Homogeneity H0 is not rejected.\\n\")\n",
    "\n",
    "    if ((pvalue_gate_30 > pthres) & (pvalue_gate_40 > pthres)) & (p_value_levene > pthres):\n",
    "        p_value_ttest = ttest_ind(df.loc[df[\"version\"] == \"gate_30\"],\n",
    "                                  df.loc[df[\"version\"] == \"gate_40\"],\n",
    "                                  equal_var=True)[1]\n",
    "        \n",
    "        print('p_value_ttest = %.5f' % p_value_ttest)\n",
    "\n",
    "    elif ((pvalue_gate_30 > pthres) & (pvalue_gate_40 > pthres)) & (p_value_levene < pthres):\n",
    "        p_value_ttest = ttest_ind(df.loc[df[\"version\"] == \"gate_30\"],\n",
    "                                  df.loc[df[\"version\"] == \"gate_40\"],\n",
    "                                  equal_var=False)[1]\n",
    "        \n",
    "        print('p_value_ttest = %.5f' % p_value_ttest)\n",
    "    else:\n",
    "        print(\"Non-Parametric test should be done.\\n\\n\")\n",
    "        pvalue = mannwhitneyu(df.loc[df[\"version\"] == \"gate_30\", \"sum_gamerounds\"],\n",
    "                              df.loc[df[\"version\"] == \"gate_40\", \"sum_gamerounds\"])[1]\n",
    "        \n",
    "        print('p_value = %.5f' % pvalue)\n",
    "\n",
    "    print(\" RESULT \".center(70,\"*\"))\n",
    "\n",
    "    if pvalue < pthres:\n",
    "        print(\n",
    "            f\"p-value {round(pvalue, 5)} < 0.05  H0 Hypothesis is Rejected. That is, there is a statistically significant difference between them.\")\n",
    "\n",
    "    else:\n",
    "        print(\n",
    "            f\"p-value > {pthres} H0 is Not Rejected, That is, there is no statistically significant difference between them. The difference was made by chance.\")\n",
    "AB_Test(df,0.05)"
   ]
  }
 ],
 "metadata": {
  "kernelspec": {
   "display_name": "Python 3",
   "language": "python",
   "name": "python3"
  },
  "language_info": {
   "codemirror_mode": {
    "name": "ipython",
    "version": 3
   },
   "file_extension": ".py",
   "mimetype": "text/x-python",
   "name": "python",
   "nbconvert_exporter": "python",
   "pygments_lexer": "ipython3",
   "version": "3.12.4"
  }
 },
 "nbformat": 4,
 "nbformat_minor": 2
}
